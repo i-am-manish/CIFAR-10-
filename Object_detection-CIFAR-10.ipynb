{
  "cells": [
    {
      "metadata": {
        "_uuid": "8f2839f25d086af736a60e9eeb907d3b93b6e0e5",
        "_cell_guid": "b1076dfc-b9ad-4769-8c92-a6c4dae69d19",
        "trusted": true
      },
      "cell_type": "code",
      "source": "import numpy\nfrom keras.datasets import cifar10\nfrom keras.models import Sequential\nfrom keras.layers import Dense\nfrom keras.layers import Dropout\nfrom keras.layers import Flatten\nfrom keras.constraints import maxnorm\nfrom keras.optimizers import SGD\nfrom keras.layers.convolutional import Conv2D\nfrom keras.layers.convolutional import MaxPooling2D\nfrom keras.utils import np_utils\nfrom keras import backend as K\nK.set_image_dim_ordering('th')",
      "execution_count": 6,
      "outputs": []
    },
    {
      "metadata": {
        "_cell_guid": "79c7e3d0-c299-4dcb-8224-4455121ee9b0",
        "collapsed": true,
        "_uuid": "d629ff2d2480ee46fbb7e2d37f6b5fab8052498a",
        "trusted": true
      },
      "cell_type": "code",
      "source": "seed = 7 # good practice to seed\nnumpy.random.seed(seed)",
      "execution_count": 7,
      "outputs": []
    },
    {
      "metadata": {
        "trusted": true,
        "_uuid": "97f5e22ffa65d21852eaf0efd9f2f17738502e2d"
      },
      "cell_type": "code",
      "source": "#download and load cifar-10\n(X_train, y_train), (X_test, y_test) = cifar10.load_data()",
      "execution_count": 8,
      "outputs": []
    },
    {
      "metadata": {
        "trusted": true,
        "_uuid": "c47f71b88f5e8b51e05c9efc262d5792f0117e43"
      },
      "cell_type": "code",
      "source": "X_train = X_train.astype('float32')\nX_test = X_test.astype('float32')\nX_train = X_train / 255.0\nX_test = X_test / 255.0\nprint(X_train.shape)\nprint(y_train.shape)\ny_train = np_utils.to_categorical(y_train)\ny_test = np_utils.to_categorical(y_test)\nprint(y_train.shape)",
      "execution_count": 9,
      "outputs": [
        {
          "output_type": "stream",
          "text": "(50000, 3, 32, 32)\n(50000, 1)\n(50000, 10)\n",
          "name": "stdout"
        }
      ]
    },
    {
      "metadata": {
        "trusted": true,
        "_uuid": "644f912a247620d8fa51f2def6b39a81666e4b20"
      },
      "cell_type": "code",
      "source": "# Create the model\nmodel = Sequential()\nmodel.add(Conv2D(32, (3, 3), input_shape=(3, 32, 32), activation='relu', padding='same'))\nmodel.add(Dropout(0.2))\nmodel.add(Conv2D(32, (3, 3), activation='relu', padding='same'))\nmodel.add(MaxPooling2D(pool_size=(2, 2)))\nmodel.add(Conv2D(64, (3, 3), activation='relu', padding='same'))\nmodel.add(Dropout(0.2))\nmodel.add(Conv2D(64, (3, 3), activation='relu', padding='same'))\nmodel.add(MaxPooling2D(pool_size=(2, 2)))\nmodel.add(Conv2D(128, (3, 3), activation='relu', padding='same'))\nmodel.add(Dropout(0.2))\nmodel.add(Conv2D(128, (3, 3), activation='relu', padding='same'))\nmodel.add(MaxPooling2D(pool_size=(2, 2)))\nmodel.add(Flatten())\nmodel.add(Dropout(0.2))\nmodel.add(Dense(1024, activation='relu', kernel_constraint=maxnorm(3)))\nmodel.add(Dropout(0.2))\nmodel.add(Dense(512, activation='relu', kernel_constraint=maxnorm(3)))\nmodel.add(Dropout(0.2))\nmodel.add(Dense(10, activation='softmax'))\n\nepochs=40\nlr=0.01\ndecay=lr/epochs\nsgd = SGD(lr=0.01,momentum=0.9,decay=decay)\nmodel.compile(loss='categorical_crossentropy', optimizer=sgd, metrics=['accuracy'])\nprint(model.summary())",
      "execution_count": 10,
      "outputs": [
        {
          "output_type": "stream",
          "text": "_________________________________________________________________\nLayer (type)                 Output Shape              Param #   \n=================================================================\nconv2d_7 (Conv2D)            (None, 32, 32, 32)        896       \n_________________________________________________________________\ndropout_7 (Dropout)          (None, 32, 32, 32)        0         \n_________________________________________________________________\nconv2d_8 (Conv2D)            (None, 32, 32, 32)        9248      \n_________________________________________________________________\nmax_pooling2d_4 (MaxPooling2 (None, 32, 16, 16)        0         \n_________________________________________________________________\nconv2d_9 (Conv2D)            (None, 64, 16, 16)        18496     \n_________________________________________________________________\ndropout_8 (Dropout)          (None, 64, 16, 16)        0         \n_________________________________________________________________\nconv2d_10 (Conv2D)           (None, 64, 16, 16)        36928     \n_________________________________________________________________\nmax_pooling2d_5 (MaxPooling2 (None, 64, 8, 8)          0         \n_________________________________________________________________\nconv2d_11 (Conv2D)           (None, 128, 8, 8)         73856     \n_________________________________________________________________\ndropout_9 (Dropout)          (None, 128, 8, 8)         0         \n_________________________________________________________________\nconv2d_12 (Conv2D)           (None, 128, 8, 8)         147584    \n_________________________________________________________________\nmax_pooling2d_6 (MaxPooling2 (None, 128, 4, 4)         0         \n_________________________________________________________________\nflatten_2 (Flatten)          (None, 2048)              0         \n_________________________________________________________________\ndropout_10 (Dropout)         (None, 2048)              0         \n_________________________________________________________________\ndense_4 (Dense)              (None, 1024)              2098176   \n_________________________________________________________________\ndropout_11 (Dropout)         (None, 1024)              0         \n_________________________________________________________________\ndense_5 (Dense)              (None, 512)               524800    \n_________________________________________________________________\ndropout_12 (Dropout)         (None, 512)               0         \n_________________________________________________________________\ndense_6 (Dense)              (None, 10)                5130      \n=================================================================\nTotal params: 2,915,114\nTrainable params: 2,915,114\nNon-trainable params: 0\n_________________________________________________________________\nNone\n",
          "name": "stdout"
        }
      ]
    },
    {
      "metadata": {
        "trusted": true,
        "_uuid": "b56b587026d42afbb870c830a9cee5d25033a5aa"
      },
      "cell_type": "code",
      "source": "numpy.random.seed(seed)\nmodel.fit(X_train, y_train, validation_data=(X_test, y_test), epochs=epochs, batch_size=64)\n",
      "execution_count": 11,
      "outputs": [
        {
          "output_type": "stream",
          "text": "WARNING:tensorflow:Variable *= will be deprecated. Use variable.assign_mul if you want assignment to the variable value or 'x = x * y' if you want a new python Tensor object.\nTrain on 50000 samples, validate on 10000 samples\nEpoch 1/40\n50000/50000 [==============================] - 21s 425us/step - loss: 1.9353 - acc: 0.2879 - val_loss: 1.7145 - val_acc: 0.3904\nEpoch 2/40\n50000/50000 [==============================] - 20s 393us/step - loss: 1.5139 - acc: 0.4477 - val_loss: 1.3928 - val_acc: 0.5001\nEpoch 3/40\n50000/50000 [==============================] - 20s 393us/step - loss: 1.3303 - acc: 0.5165 - val_loss: 1.3503 - val_acc: 0.5133\nEpoch 4/40\n50000/50000 [==============================] - 20s 393us/step - loss: 1.1860 - acc: 0.5727 - val_loss: 1.1090 - val_acc: 0.5979\nEpoch 5/40\n50000/50000 [==============================] - 20s 393us/step - loss: 1.0715 - acc: 0.6169 - val_loss: 1.0763 - val_acc: 0.6179\nEpoch 6/40\n50000/50000 [==============================] - 20s 392us/step - loss: 0.9742 - acc: 0.6538 - val_loss: 0.9112 - val_acc: 0.6790\nEpoch 7/40\n50000/50000 [==============================] - 20s 393us/step - loss: 0.8932 - acc: 0.6834 - val_loss: 0.8349 - val_acc: 0.7033\nEpoch 8/40\n50000/50000 [==============================] - 20s 394us/step - loss: 0.8202 - acc: 0.7094 - val_loss: 0.7897 - val_acc: 0.7226\nEpoch 9/40\n50000/50000 [==============================] - 20s 391us/step - loss: 0.7627 - acc: 0.7319 - val_loss: 0.7844 - val_acc: 0.7223\nEpoch 10/40\n50000/50000 [==============================] - 20s 393us/step - loss: 0.7086 - acc: 0.7501 - val_loss: 0.7363 - val_acc: 0.7470\nEpoch 11/40\n50000/50000 [==============================] - 20s 393us/step - loss: 0.6641 - acc: 0.7649 - val_loss: 0.7188 - val_acc: 0.7517\nEpoch 12/40\n50000/50000 [==============================] - 20s 393us/step - loss: 0.6260 - acc: 0.7795 - val_loss: 0.6795 - val_acc: 0.7636\nEpoch 13/40\n50000/50000 [==============================] - 20s 394us/step - loss: 0.5926 - acc: 0.7924 - val_loss: 0.6581 - val_acc: 0.7742\nEpoch 14/40\n50000/50000 [==============================] - 20s 390us/step - loss: 0.5609 - acc: 0.8015 - val_loss: 0.6566 - val_acc: 0.7764\nEpoch 15/40\n50000/50000 [==============================] - 20s 393us/step - loss: 0.5348 - acc: 0.8098 - val_loss: 0.6462 - val_acc: 0.7788\nEpoch 16/40\n50000/50000 [==============================] - 20s 394us/step - loss: 0.5081 - acc: 0.8206 - val_loss: 0.6639 - val_acc: 0.7715\nEpoch 17/40\n50000/50000 [==============================] - 20s 392us/step - loss: 0.4822 - acc: 0.8289 - val_loss: 0.6389 - val_acc: 0.7819\nEpoch 18/40\n50000/50000 [==============================] - 20s 392us/step - loss: 0.4558 - acc: 0.8386 - val_loss: 0.6329 - val_acc: 0.7851\nEpoch 19/40\n50000/50000 [==============================] - 20s 393us/step - loss: 0.4420 - acc: 0.8435 - val_loss: 0.6373 - val_acc: 0.7866\nEpoch 20/40\n50000/50000 [==============================] - 20s 394us/step - loss: 0.4162 - acc: 0.8529 - val_loss: 0.6473 - val_acc: 0.7835\nEpoch 21/40\n50000/50000 [==============================] - 20s 393us/step - loss: 0.4000 - acc: 0.8578 - val_loss: 0.6183 - val_acc: 0.7921\nEpoch 22/40\n50000/50000 [==============================] - 20s 392us/step - loss: 0.3801 - acc: 0.8645 - val_loss: 0.6317 - val_acc: 0.7984\nEpoch 23/40\n50000/50000 [==============================] - 20s 392us/step - loss: 0.3629 - acc: 0.8702 - val_loss: 0.6360 - val_acc: 0.7913\nEpoch 24/40\n50000/50000 [==============================] - 20s 393us/step - loss: 0.3525 - acc: 0.8752 - val_loss: 0.6478 - val_acc: 0.7885\nEpoch 25/40\n50000/50000 [==============================] - 20s 393us/step - loss: 0.3354 - acc: 0.8794 - val_loss: 0.6140 - val_acc: 0.7945\nEpoch 26/40\n50000/50000 [==============================] - 20s 394us/step - loss: 0.3216 - acc: 0.8840 - val_loss: 0.6364 - val_acc: 0.7949\nEpoch 27/40\n50000/50000 [==============================] - 20s 393us/step - loss: 0.3100 - acc: 0.8898 - val_loss: 0.6288 - val_acc: 0.8003\nEpoch 28/40\n50000/50000 [==============================] - 20s 394us/step - loss: 0.2997 - acc: 0.8925 - val_loss: 0.6250 - val_acc: 0.7994\nEpoch 29/40\n50000/50000 [==============================] - 20s 391us/step - loss: 0.2862 - acc: 0.8968 - val_loss: 0.6454 - val_acc: 0.7972\nEpoch 30/40\n50000/50000 [==============================] - 20s 392us/step - loss: 0.2755 - acc: 0.9028 - val_loss: 0.6224 - val_acc: 0.8019\nEpoch 31/40\n50000/50000 [==============================] - 20s 394us/step - loss: 0.2629 - acc: 0.9069 - val_loss: 0.6470 - val_acc: 0.8009\nEpoch 32/40\n50000/50000 [==============================] - 20s 393us/step - loss: 0.2538 - acc: 0.9093 - val_loss: 0.6453 - val_acc: 0.7955\nEpoch 33/40\n50000/50000 [==============================] - 20s 393us/step - loss: 0.2437 - acc: 0.9127 - val_loss: 0.6516 - val_acc: 0.8001\nEpoch 34/40\n50000/50000 [==============================] - 20s 392us/step - loss: 0.2339 - acc: 0.9175 - val_loss: 0.6499 - val_acc: 0.8070\nEpoch 35/40\n50000/50000 [==============================] - 20s 393us/step - loss: 0.2285 - acc: 0.9176 - val_loss: 0.6563 - val_acc: 0.8028\nEpoch 36/40\n50000/50000 [==============================] - 20s 392us/step - loss: 0.2158 - acc: 0.9222 - val_loss: 0.6445 - val_acc: 0.8042\nEpoch 37/40\n50000/50000 [==============================] - 20s 393us/step - loss: 0.2165 - acc: 0.9220 - val_loss: 0.6685 - val_acc: 0.8048\nEpoch 38/40\n50000/50000 [==============================] - 20s 391us/step - loss: 0.2059 - acc: 0.9255 - val_loss: 0.6653 - val_acc: 0.8005\nEpoch 39/40\n50000/50000 [==============================] - 20s 391us/step - loss: 0.1956 - acc: 0.9291 - val_loss: 0.6659 - val_acc: 0.8061\nEpoch 40/40\n50000/50000 [==============================] - 20s 394us/step - loss: 0.1898 - acc: 0.9312 - val_loss: 0.6850 - val_acc: 0.8031\n",
          "name": "stdout"
        },
        {
          "output_type": "execute_result",
          "execution_count": 11,
          "data": {
            "text/plain": "<keras.callbacks.History at 0x7f047fe2cef0>"
          },
          "metadata": {}
        }
      ]
    },
    {
      "metadata": {
        "trusted": true,
        "_uuid": "6fa1730ed5743b7f390bd430e542da833b3ef150"
      },
      "cell_type": "code",
      "source": "# Final evaluation of the model\nscores = model.evaluate(X_test, y_test, verbose=0)\nprint(\"Accuracy: %.2f%%\" %(scores[1]*100))",
      "execution_count": 12,
      "outputs": [
        {
          "output_type": "stream",
          "text": "Accuracy: 80.31%\n",
          "name": "stdout"
        }
      ]
    },
    {
      "metadata": {
        "trusted": true,
        "collapsed": true,
        "_uuid": "3800089e3092c1e9042279c7c479d0a5a66a03ea"
      },
      "cell_type": "code",
      "source": "",
      "execution_count": null,
      "outputs": []
    }
  ],
  "metadata": {
    "kernelspec": {
      "display_name": "Python 3",
      "language": "python",
      "name": "python3"
    },
    "language_info": {
      "name": "python",
      "version": "3.6.4",
      "mimetype": "text/x-python",
      "codemirror_mode": {
        "name": "ipython",
        "version": 3
      },
      "pygments_lexer": "ipython3",
      "nbconvert_exporter": "python",
      "file_extension": ".py"
    }
  },
  "nbformat": 4,
  "nbformat_minor": 1
}